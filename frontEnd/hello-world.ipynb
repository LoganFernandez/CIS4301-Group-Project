{
 "cells": [
  {
   "cell_type": "code",
   "execution_count": null,
   "metadata": {},
   "outputs": [],
   "source": [
    "import mercury as mr # for widgets\n",
    "import oracledb\n",
    "import random # for random data generation\n",
    "from matplotlib import pyplot as plt # for chart\n"
   ]
  },
  {
   "cell_type": "code",
   "execution_count": null,
   "metadata": {},
   "outputs": [],
   "source": [
    "\n",
    "# Put the oracle db credentials in order to connect\n",
    "#un = michael.bennie\n",
    "#cs = \n",
    "#pw = "
   ]
  },
  {
   "cell_type": "code",
   "execution_count": null,
   "metadata": {},
   "outputs": [],
   "source": [
    "\n",
    "app = mr.App(title=\"Static notebook\", description=\"Display static notebook\")\n"
   ]
  },
  {
   "cell_type": "code",
   "execution_count": null,
   "metadata": {},
   "outputs": [],
   "source": [
    "header = mr.Md(\"CIS4301 Databases Group Project\")\n",
    "name = mr.Text(label=\"What is your name?\", value=\"Piotr\")\n",
    "points = mr.Slider(label=\"Number of points\", value=75, min=50, max=100)\n",
    "color = mr.Select(label=\"Select color\", value=\"blue\", choices=[\"red\", \"green\", \"blue\"])\n"
   ]
  },
  {
   "cell_type": "code",
   "execution_count": null,
   "metadata": {},
   "outputs": [],
   "source": [
    "\n",
    "mr.Md(f\"\"\"## How are you {name.value}?\n",
    "You can mix Python code and Markdown.\"\"\")\n"
   ]
  },
  {
   "cell_type": "code",
   "execution_count": null,
   "metadata": {},
   "outputs": [],
   "source": [
    "x = [random.gauss(0,1) for _ in range(points.value)]\n",
    "y = [random.gauss(0,1) for _ in range(points.value)]\n",
    "_ = plt.plot(x,y, '*', markersize=14, color=color.value)\n",
    "_ = plt.title(f\"Plot for {name.value}\")"
   ]
  }
 ],
 "metadata": {
  "language_info": {
   "name": "python"
  }
 },
 "nbformat": 4,
 "nbformat_minor": 2
}
