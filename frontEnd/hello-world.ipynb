{
 "cells": [
  {
   "cell_type": "code",
   "metadata": {
    "ExecuteTime": {
     "end_time": "2024-04-10T19:17:53.684895Z",
     "start_time": "2024-04-10T19:17:47.563871Z"
    }
   },
   "source": [
    "!pip install mercury\n",
    "!pip install oracledb\n",
    "!pip install matplotlib\n",
    "import mercury as mr # for widgets\n",
    "import oracledb\n",
    "import random # for random data generation\n",
    "from matplotlib import pyplot as plt # for chart\n"
   ],
   "outputs": [
    {
     "name": "stdout",
     "output_type": "stream",
     "text": [
      "Defaulting to user installation because normal site-packages is not writeable\r\n",
      "Requirement already satisfied: mercury in /home/michaelbennie/.local/lib/python3.10/site-packages (2.3.10)\r\n",
      "Requirement already satisfied: django==4.2.3 in /home/michaelbennie/.local/lib/python3.10/site-packages (from mercury) (4.2.3)\r\n",
      "Requirement already satisfied: djangorestframework==3.14.0 in /home/michaelbennie/.local/lib/python3.10/site-packages (from mercury) (3.14.0)\r\n",
      "Requirement already satisfied: django-filter==21.1 in /home/michaelbennie/.local/lib/python3.10/site-packages (from mercury) (21.1)\r\n",
      "Requirement already satisfied: markdown==3.3.6 in /usr/lib/python3/dist-packages (from mercury) (3.3.6)\r\n",
      "Requirement already satisfied: celery>=5.1.2 in /home/michaelbennie/.local/lib/python3.10/site-packages (from mercury) (5.3.6)\r\n",
      "Requirement already satisfied: sqlalchemy==1.4.27 in /home/michaelbennie/.local/lib/python3.10/site-packages (from mercury) (1.4.27)\r\n",
      "Requirement already satisfied: gevent in /home/michaelbennie/.local/lib/python3.10/site-packages (from mercury) (24.2.1)\r\n",
      "Requirement already satisfied: nbconvert>=7.8.0 in /home/michaelbennie/.local/lib/python3.10/site-packages (from mercury) (7.14.2)\r\n",
      "Requirement already satisfied: ipython-genutils in /home/michaelbennie/.local/lib/python3.10/site-packages (from mercury) (0.2.0)\r\n",
      "Requirement already satisfied: django-cors-headers==3.10.1 in /home/michaelbennie/.local/lib/python3.10/site-packages (from mercury) (3.10.1)\r\n",
      "Requirement already satisfied: ipython>=7.30.1 in /home/michaelbennie/.local/lib/python3.10/site-packages (from mercury) (8.21.0)\r\n",
      "Requirement already satisfied: ipykernel>=6.6.0 in /home/michaelbennie/.local/lib/python3.10/site-packages (from mercury) (6.29.0)\r\n",
      "Requirement already satisfied: psutil>=5.8.0 in /home/michaelbennie/.local/lib/python3.10/site-packages (from mercury) (5.9.5)\r\n",
      "Requirement already satisfied: whitenoise>=5.3.0 in /home/michaelbennie/.local/lib/python3.10/site-packages (from mercury) (6.6.0)\r\n",
      "Requirement already satisfied: python-dotenv>=0.19.2 in /home/michaelbennie/.local/lib/python3.10/site-packages (from mercury) (1.0.0)\r\n",
      "Requirement already satisfied: django-drf-filepond==0.4.1 in /home/michaelbennie/.local/lib/python3.10/site-packages (from mercury) (0.4.1)\r\n",
      "Requirement already satisfied: croniter>=1.3.5 in /home/michaelbennie/.local/lib/python3.10/site-packages (from mercury) (2.0.3)\r\n",
      "Requirement already satisfied: pyppeteer==1.0.2 in /home/michaelbennie/.local/lib/python3.10/site-packages (from mercury) (1.0.2)\r\n",
      "Requirement already satisfied: channels>=4.0.0 in /home/michaelbennie/.local/lib/python3.10/site-packages (from channels[daphne]>=4.0.0->mercury) (4.0.0)\r\n",
      "Requirement already satisfied: websocket-client>=1.4.2 in /home/michaelbennie/.local/lib/python3.10/site-packages (from mercury) (1.7.0)\r\n",
      "Requirement already satisfied: execnb in /home/michaelbennie/.local/lib/python3.10/site-packages (from mercury) (0.1.5)\r\n",
      "Requirement already satisfied: ipywidgets==8.0.3 in /home/michaelbennie/.local/lib/python3.10/site-packages (from mercury) (8.0.3)\r\n",
      "Requirement already satisfied: dj-rest-auth==3.0.0 in /home/michaelbennie/.local/lib/python3.10/site-packages (from dj-rest-auth[with_social]==3.0.0->mercury) (3.0.0)\r\n",
      "Requirement already satisfied: boto3==1.26.83 in /home/michaelbennie/.local/lib/python3.10/site-packages (from mercury) (1.26.83)\r\n",
      "Requirement already satisfied: cryptography in /home/michaelbennie/.local/lib/python3.10/site-packages (from mercury) (42.0.5)\r\n",
      "Requirement already satisfied: pyopenssl>=23.1.1 in /home/michaelbennie/.local/lib/python3.10/site-packages (from mercury) (24.1.0)\r\n",
      "Requirement already satisfied: bleach>=6.0.0 in /home/michaelbennie/.local/lib/python3.10/site-packages (from mercury) (6.1.0)\r\n",
      "Requirement already satisfied: itables>=2.0.0 in /home/michaelbennie/.local/lib/python3.10/site-packages (from mercury) (2.0.0)\r\n",
      "Requirement already satisfied: botocore<1.30.0,>=1.29.83 in /home/michaelbennie/.local/lib/python3.10/site-packages (from boto3==1.26.83->mercury) (1.29.165)\r\n",
      "Requirement already satisfied: jmespath<2.0.0,>=0.7.1 in /home/michaelbennie/.local/lib/python3.10/site-packages (from boto3==1.26.83->mercury) (1.0.1)\r\n",
      "Requirement already satisfied: s3transfer<0.7.0,>=0.6.0 in /home/michaelbennie/.local/lib/python3.10/site-packages (from boto3==1.26.83->mercury) (0.6.2)\r\n",
      "WARNING: dj-rest-auth 3.0.0 does not provide the extra 'with-social'\r\n",
      "Requirement already satisfied: django-allauth<0.53.0,>=0.40.0 in /home/michaelbennie/.local/lib/python3.10/site-packages (from dj-rest-auth[with_social]==3.0.0->mercury) (0.52.0)\r\n",
      "Requirement already satisfied: asgiref<4,>=3.6.0 in /home/michaelbennie/.local/lib/python3.10/site-packages (from django==4.2.3->mercury) (3.8.1)\r\n",
      "Requirement already satisfied: sqlparse>=0.3.1 in /home/michaelbennie/.local/lib/python3.10/site-packages (from django==4.2.3->mercury) (0.4.4)\r\n",
      "Requirement already satisfied: requests>=2.20.1 in /home/michaelbennie/.local/lib/python3.10/site-packages (from django-drf-filepond==0.4.1->mercury) (2.31.0)\r\n",
      "Requirement already satisfied: six>=1.14.0 in /usr/lib/python3/dist-packages (from django-drf-filepond==0.4.1->mercury) (1.16.0)\r\n",
      "Requirement already satisfied: shortuuid>=0.5.0 in /home/michaelbennie/.local/lib/python3.10/site-packages (from django-drf-filepond==0.4.1->mercury) (1.0.13)\r\n",
      "Requirement already satisfied: django-storages>=1.9.1 in /home/michaelbennie/.local/lib/python3.10/site-packages (from django-drf-filepond==0.4.1->mercury) (1.14.2)\r\n",
      "Requirement already satisfied: pytz in /usr/lib/python3/dist-packages (from djangorestframework==3.14.0->mercury) (2022.1)\r\n",
      "Requirement already satisfied: traitlets>=4.3.1 in /home/michaelbennie/.local/lib/python3.10/site-packages (from ipywidgets==8.0.3->mercury) (5.14.1)\r\n",
      "Requirement already satisfied: widgetsnbextension~=4.0 in /home/michaelbennie/.local/lib/python3.10/site-packages (from ipywidgets==8.0.3->mercury) (4.0.10)\r\n",
      "Requirement already satisfied: jupyterlab-widgets~=3.0 in /home/michaelbennie/.local/lib/python3.10/site-packages (from ipywidgets==8.0.3->mercury) (3.0.10)\r\n",
      "Requirement already satisfied: appdirs<2.0.0,>=1.4.3 in /home/michaelbennie/.local/lib/python3.10/site-packages (from pyppeteer==1.0.2->mercury) (1.4.4)\r\n",
      "Requirement already satisfied: certifi>=2021 in /home/michaelbennie/.local/lib/python3.10/site-packages (from pyppeteer==1.0.2->mercury) (2023.7.22)\r\n",
      "Requirement already satisfied: importlib-metadata>=1.4 in /home/michaelbennie/.local/lib/python3.10/site-packages (from pyppeteer==1.0.2->mercury) (6.8.0)\r\n",
      "Requirement already satisfied: pyee<9.0.0,>=8.1.0 in /home/michaelbennie/.local/lib/python3.10/site-packages (from pyppeteer==1.0.2->mercury) (8.2.2)\r\n",
      "Requirement already satisfied: tqdm<5.0.0,>=4.42.1 in /home/michaelbennie/.local/lib/python3.10/site-packages (from pyppeteer==1.0.2->mercury) (4.66.1)\r\n",
      "Requirement already satisfied: urllib3<2.0.0,>=1.25.8 in /usr/lib/python3/dist-packages (from pyppeteer==1.0.2->mercury) (1.26.5)\r\n",
      "Requirement already satisfied: websockets<11.0,>=10.0 in /home/michaelbennie/.local/lib/python3.10/site-packages (from pyppeteer==1.0.2->mercury) (10.4)\r\n",
      "Requirement already satisfied: greenlet!=0.4.17 in /home/michaelbennie/.local/lib/python3.10/site-packages (from sqlalchemy==1.4.27->mercury) (3.0.3)\r\n",
      "Requirement already satisfied: webencodings in /home/michaelbennie/.local/lib/python3.10/site-packages (from bleach>=6.0.0->mercury) (0.5.1)\r\n",
      "Requirement already satisfied: billiard<5.0,>=4.2.0 in /home/michaelbennie/.local/lib/python3.10/site-packages (from celery>=5.1.2->mercury) (4.2.0)\r\n",
      "Requirement already satisfied: click-didyoumean>=0.3.0 in /home/michaelbennie/.local/lib/python3.10/site-packages (from celery>=5.1.2->mercury) (0.3.1)\r\n",
      "Requirement already satisfied: click-plugins>=1.1.1 in /home/michaelbennie/.local/lib/python3.10/site-packages (from celery>=5.1.2->mercury) (1.1.1)\r\n",
      "Requirement already satisfied: click-repl>=0.2.0 in /home/michaelbennie/.local/lib/python3.10/site-packages (from celery>=5.1.2->mercury) (0.3.0)\r\n",
      "Requirement already satisfied: click<9.0,>=8.1.2 in /home/michaelbennie/.local/lib/python3.10/site-packages (from celery>=5.1.2->mercury) (8.1.3)\r\n",
      "Requirement already satisfied: kombu<6.0,>=5.3.4 in /home/michaelbennie/.local/lib/python3.10/site-packages (from celery>=5.1.2->mercury) (5.3.5)\r\n",
      "Requirement already satisfied: python-dateutil>=2.8.2 in /home/michaelbennie/.local/lib/python3.10/site-packages (from celery>=5.1.2->mercury) (2.8.2)\r\n",
      "Requirement already satisfied: tzdata>=2022.7 in /home/michaelbennie/.local/lib/python3.10/site-packages (from celery>=5.1.2->mercury) (2024.1)\r\n",
      "Requirement already satisfied: vine<6.0,>=5.1.0 in /home/michaelbennie/.local/lib/python3.10/site-packages (from celery>=5.1.2->mercury) (5.1.0)\r\n",
      "Requirement already satisfied: daphne>=4.0.0 in /home/michaelbennie/.local/lib/python3.10/site-packages (from channels[daphne]>=4.0.0->mercury) (4.1.0)\r\n",
      "Requirement already satisfied: comm>=0.1.1 in /home/michaelbennie/.local/lib/python3.10/site-packages (from ipykernel>=6.6.0->mercury) (0.2.1)\r\n",
      "Requirement already satisfied: debugpy>=1.6.5 in /home/michaelbennie/.local/lib/python3.10/site-packages (from ipykernel>=6.6.0->mercury) (1.8.0)\r\n",
      "Requirement already satisfied: jupyter-client>=6.1.12 in /home/michaelbennie/.local/lib/python3.10/site-packages (from ipykernel>=6.6.0->mercury) (8.6.0)\r\n",
      "Requirement already satisfied: jupyter-core!=5.0.*,>=4.12 in /home/michaelbennie/.local/lib/python3.10/site-packages (from ipykernel>=6.6.0->mercury) (5.7.1)\r\n",
      "Requirement already satisfied: matplotlib-inline>=0.1 in /home/michaelbennie/.local/lib/python3.10/site-packages (from ipykernel>=6.6.0->mercury) (0.1.6)\r\n",
      "Requirement already satisfied: nest-asyncio in /home/michaelbennie/.local/lib/python3.10/site-packages (from ipykernel>=6.6.0->mercury) (1.6.0)\r\n",
      "Requirement already satisfied: packaging in /home/michaelbennie/.local/lib/python3.10/site-packages (from ipykernel>=6.6.0->mercury) (23.0)\r\n",
      "Requirement already satisfied: pyzmq>=24 in /home/michaelbennie/.local/lib/python3.10/site-packages (from ipykernel>=6.6.0->mercury) (25.1.2)\r\n",
      "Requirement already satisfied: tornado>=6.1 in /home/michaelbennie/.local/lib/python3.10/site-packages (from ipykernel>=6.6.0->mercury) (6.4)\r\n",
      "Requirement already satisfied: decorator in /usr/lib/python3/dist-packages (from ipython>=7.30.1->mercury) (4.4.2)\r\n",
      "Requirement already satisfied: jedi>=0.16 in /home/michaelbennie/.local/lib/python3.10/site-packages (from ipython>=7.30.1->mercury) (0.17.2)\r\n",
      "Requirement already satisfied: prompt-toolkit<3.1.0,>=3.0.41 in /home/michaelbennie/.local/lib/python3.10/site-packages (from ipython>=7.30.1->mercury) (3.0.43)\r\n",
      "Requirement already satisfied: pygments>=2.4.0 in /usr/lib/python3/dist-packages (from ipython>=7.30.1->mercury) (2.11.2)\r\n",
      "Requirement already satisfied: stack-data in /home/michaelbennie/.local/lib/python3.10/site-packages (from ipython>=7.30.1->mercury) (0.6.3)\r\n",
      "Requirement already satisfied: exceptiongroup in /home/michaelbennie/.local/lib/python3.10/site-packages (from ipython>=7.30.1->mercury) (1.1.0)\r\n",
      "Requirement already satisfied: pexpect>4.3 in /home/michaelbennie/.local/lib/python3.10/site-packages (from ipython>=7.30.1->mercury) (4.9.0)\r\n",
      "Requirement already satisfied: numpy in /home/michaelbennie/.local/lib/python3.10/site-packages (from itables>=2.0.0->mercury) (1.26.4)\r\n",
      "Requirement already satisfied: pandas in /home/michaelbennie/.local/lib/python3.10/site-packages (from itables>=2.0.0->mercury) (2.2.1)\r\n",
      "Requirement already satisfied: beautifulsoup4 in /home/michaelbennie/.local/lib/python3.10/site-packages (from nbconvert>=7.8.0->mercury) (4.12.2)\r\n",
      "Requirement already satisfied: defusedxml in /home/michaelbennie/.local/lib/python3.10/site-packages (from nbconvert>=7.8.0->mercury) (0.7.1)\r\n",
      "Requirement already satisfied: jinja2>=3.0 in /home/michaelbennie/.local/lib/python3.10/site-packages (from nbconvert>=7.8.0->mercury) (3.1.2)\r\n",
      "Requirement already satisfied: jupyterlab-pygments in /home/michaelbennie/.local/lib/python3.10/site-packages (from nbconvert>=7.8.0->mercury) (0.3.0)\r\n",
      "Requirement already satisfied: markupsafe>=2.0 in /home/michaelbennie/.local/lib/python3.10/site-packages (from nbconvert>=7.8.0->mercury) (2.1.2)\r\n",
      "Requirement already satisfied: mistune<4,>=2.0.3 in /home/michaelbennie/.local/lib/python3.10/site-packages (from nbconvert>=7.8.0->mercury) (3.0.2)\r\n",
      "Requirement already satisfied: nbclient>=0.5.0 in /home/michaelbennie/.local/lib/python3.10/site-packages (from nbconvert>=7.8.0->mercury) (0.9.0)\r\n",
      "Requirement already satisfied: nbformat>=5.7 in /home/michaelbennie/.local/lib/python3.10/site-packages (from nbconvert>=7.8.0->mercury) (5.9.2)\r\n",
      "Requirement already satisfied: pandocfilters>=1.4.1 in /home/michaelbennie/.local/lib/python3.10/site-packages (from nbconvert>=7.8.0->mercury) (1.5.1)\r\n",
      "Requirement already satisfied: tinycss2 in /home/michaelbennie/.local/lib/python3.10/site-packages (from nbconvert>=7.8.0->mercury) (1.2.1)\r\n",
      "Requirement already satisfied: cffi>=1.12 in /home/michaelbennie/.local/lib/python3.10/site-packages (from cryptography->mercury) (1.15.1)\r\n",
      "Requirement already satisfied: fastcore>=1.5.5 in /home/michaelbennie/.local/lib/python3.10/site-packages (from execnb->mercury) (1.5.29)\r\n",
      "Requirement already satisfied: zope.event in /home/michaelbennie/.local/lib/python3.10/site-packages (from gevent->mercury) (5.0)\r\n",
      "Requirement already satisfied: zope.interface in /usr/lib/python3/dist-packages (from gevent->mercury) (5.4.0)\r\n",
      "Requirement already satisfied: typing-extensions>=4 in /home/michaelbennie/.local/lib/python3.10/site-packages (from asgiref<4,>=3.6.0->django==4.2.3->mercury) (4.5.0)\r\n",
      "Requirement already satisfied: pycparser in /home/michaelbennie/.local/lib/python3.10/site-packages (from cffi>=1.12->cryptography->mercury) (2.21)\r\n",
      "Requirement already satisfied: autobahn>=22.4.2 in /home/michaelbennie/.local/lib/python3.10/site-packages (from daphne>=4.0.0->channels[daphne]>=4.0.0->mercury) (23.6.2)\r\n",
      "Requirement already satisfied: twisted>=22.4 in /home/michaelbennie/.local/lib/python3.10/site-packages (from twisted[tls]>=22.4->daphne>=4.0.0->channels[daphne]>=4.0.0->mercury) (24.3.0)\r\n",
      "Requirement already satisfied: python3-openid>=3.0.8 in /home/michaelbennie/.local/lib/python3.10/site-packages (from django-allauth<0.53.0,>=0.40.0->dj-rest-auth[with_social]==3.0.0->mercury) (3.2.0)\r\n",
      "Requirement already satisfied: requests-oauthlib>=0.3.0 in /usr/local/lib/python3.10/dist-packages (from django-allauth<0.53.0,>=0.40.0->dj-rest-auth[with_social]==3.0.0->mercury) (1.3.1)\r\n",
      "Requirement already satisfied: pyjwt>=1.7 in /usr/lib/python3/dist-packages (from pyjwt[crypto]>=1.7->django-allauth<0.53.0,>=0.40.0->dj-rest-auth[with_social]==3.0.0->mercury) (2.3.0)\r\n",
      "Requirement already satisfied: pip in /home/michaelbennie/.local/lib/python3.10/site-packages (from fastcore>=1.5.5->execnb->mercury) (24.0)\r\n",
      "Requirement already satisfied: zipp>=0.5 in /usr/lib/python3/dist-packages (from importlib-metadata>=1.4->pyppeteer==1.0.2->mercury) (1.0.0)\r\n",
      "Requirement already satisfied: parso<0.8.0,>=0.7.0 in /home/michaelbennie/.local/lib/python3.10/site-packages (from jedi>=0.16->ipython>=7.30.1->mercury) (0.7.1)\r\n",
      "Requirement already satisfied: platformdirs>=2.5 in /home/michaelbennie/.local/lib/python3.10/site-packages (from jupyter-core!=5.0.*,>=4.12->ipykernel>=6.6.0->mercury) (3.11.0)\r\n",
      "Requirement already satisfied: amqp<6.0.0,>=5.1.1 in /home/michaelbennie/.local/lib/python3.10/site-packages (from kombu<6.0,>=5.3.4->celery>=5.1.2->mercury) (5.2.0)\r\n",
      "Requirement already satisfied: fastjsonschema in /home/michaelbennie/.local/lib/python3.10/site-packages (from nbformat>=5.7->nbconvert>=7.8.0->mercury) (2.19.1)\r\n",
      "Requirement already satisfied: jsonschema>=2.6 in /home/michaelbennie/.local/lib/python3.10/site-packages (from nbformat>=5.7->nbconvert>=7.8.0->mercury) (4.21.1)\r\n",
      "Requirement already satisfied: ptyprocess>=0.5 in /home/michaelbennie/.local/lib/python3.10/site-packages (from pexpect>4.3->ipython>=7.30.1->mercury) (0.7.0)\r\n",
      "Requirement already satisfied: wcwidth in /home/michaelbennie/.local/lib/python3.10/site-packages (from prompt-toolkit<3.1.0,>=3.0.41->ipython>=7.30.1->mercury) (0.2.13)\r\n",
      "Requirement already satisfied: charset-normalizer<4,>=2 in /home/michaelbennie/.local/lib/python3.10/site-packages (from requests>=2.20.1->django-drf-filepond==0.4.1->mercury) (3.1.0)\r\n",
      "Requirement already satisfied: idna<4,>=2.5 in /usr/lib/python3/dist-packages (from requests>=2.20.1->django-drf-filepond==0.4.1->mercury) (3.3)\r\n",
      "Requirement already satisfied: soupsieve>1.2 in /home/michaelbennie/.local/lib/python3.10/site-packages (from beautifulsoup4->nbconvert>=7.8.0->mercury) (2.4.1)\r\n",
      "Requirement already satisfied: executing>=1.2.0 in /home/michaelbennie/.local/lib/python3.10/site-packages (from stack-data->ipython>=7.30.1->mercury) (2.0.1)\r\n",
      "Requirement already satisfied: asttokens>=2.1.0 in /home/michaelbennie/.local/lib/python3.10/site-packages (from stack-data->ipython>=7.30.1->mercury) (2.4.1)\r\n",
      "Requirement already satisfied: pure-eval in /home/michaelbennie/.local/lib/python3.10/site-packages (from stack-data->ipython>=7.30.1->mercury) (0.2.2)\r\n",
      "Requirement already satisfied: setuptools in /home/michaelbennie/.local/lib/python3.10/site-packages (from zope.event->gevent->mercury) (68.1.2)\r\n",
      "Requirement already satisfied: txaio>=21.2.1 in /home/michaelbennie/.local/lib/python3.10/site-packages (from autobahn>=22.4.2->daphne>=4.0.0->channels[daphne]>=4.0.0->mercury) (23.1.1)\r\n",
      "Requirement already satisfied: hyperlink>=21.0.0 in /usr/lib/python3/dist-packages (from autobahn>=22.4.2->daphne>=4.0.0->channels[daphne]>=4.0.0->mercury) (21.0.0)\r\n",
      "Requirement already satisfied: attrs>=22.2.0 in /home/michaelbennie/.local/lib/python3.10/site-packages (from jsonschema>=2.6->nbformat>=5.7->nbconvert>=7.8.0->mercury) (22.2.0)\r\n",
      "Requirement already satisfied: jsonschema-specifications>=2023.03.6 in /home/michaelbennie/.local/lib/python3.10/site-packages (from jsonschema>=2.6->nbformat>=5.7->nbconvert>=7.8.0->mercury) (2023.12.1)\r\n",
      "Requirement already satisfied: referencing>=0.28.4 in /home/michaelbennie/.local/lib/python3.10/site-packages (from jsonschema>=2.6->nbformat>=5.7->nbconvert>=7.8.0->mercury) (0.32.1)\r\n",
      "Requirement already satisfied: rpds-py>=0.7.1 in /home/michaelbennie/.local/lib/python3.10/site-packages (from jsonschema>=2.6->nbformat>=5.7->nbconvert>=7.8.0->mercury) (0.17.1)\r\n",
      "Requirement already satisfied: oauthlib>=3.0.0 in /usr/lib/python3/dist-packages (from requests-oauthlib>=0.3.0->django-allauth<0.53.0,>=0.40.0->dj-rest-auth[with_social]==3.0.0->mercury) (3.2.0)\r\n",
      "Requirement already satisfied: automat>=0.8.0 in /usr/lib/python3/dist-packages (from twisted>=22.4->twisted[tls]>=22.4->daphne>=4.0.0->channels[daphne]>=4.0.0->mercury) (20.2.0)\r\n",
      "Requirement already satisfied: constantly>=15.1 in /usr/lib/python3/dist-packages (from twisted>=22.4->twisted[tls]>=22.4->daphne>=4.0.0->channels[daphne]>=4.0.0->mercury) (15.1.0)\r\n",
      "Requirement already satisfied: incremental>=22.10.0 in /home/michaelbennie/.local/lib/python3.10/site-packages (from twisted>=22.4->twisted[tls]>=22.4->daphne>=4.0.0->channels[daphne]>=4.0.0->mercury) (22.10.0)\r\n",
      "Requirement already satisfied: service-identity>=18.1.0 in /usr/lib/python3/dist-packages (from twisted[tls]>=22.4->daphne>=4.0.0->channels[daphne]>=4.0.0->mercury) (18.1.0)\r\n",
      "DEPRECATION: devscripts 2.22.1ubuntu1 has a non-standard version number. pip 24.1 will enforce this behaviour change. A possible replacement is to upgrade to a newer version of devscripts or contact the author to suggest that they release a version with a conforming version number. Discussion can be found at https://github.com/pypa/pip/issues/12063\r\n",
      "DEPRECATION: pdfminer-six -VERSION- has a non-standard version number. pip 24.1 will enforce this behaviour change. A possible replacement is to upgrade to a newer version of pdfminer-six or contact the author to suggest that they release a version with a conforming version number. Discussion can be found at https://github.com/pypa/pip/issues/12063\r\n",
      "Defaulting to user installation because normal site-packages is not writeable\r\n",
      "Requirement already satisfied: oracledb in /home/michaelbennie/.local/lib/python3.10/site-packages (2.1.0)\r\n",
      "Requirement already satisfied: cryptography>=3.2.1 in /home/michaelbennie/.local/lib/python3.10/site-packages (from oracledb) (42.0.5)\r\n",
      "Requirement already satisfied: cffi>=1.12 in /home/michaelbennie/.local/lib/python3.10/site-packages (from cryptography>=3.2.1->oracledb) (1.15.1)\r\n",
      "Requirement already satisfied: pycparser in /home/michaelbennie/.local/lib/python3.10/site-packages (from cffi>=1.12->cryptography>=3.2.1->oracledb) (2.21)\r\n",
      "DEPRECATION: devscripts 2.22.1ubuntu1 has a non-standard version number. pip 24.1 will enforce this behaviour change. A possible replacement is to upgrade to a newer version of devscripts or contact the author to suggest that they release a version with a conforming version number. Discussion can be found at https://github.com/pypa/pip/issues/12063\r\n",
      "DEPRECATION: pdfminer-six -VERSION- has a non-standard version number. pip 24.1 will enforce this behaviour change. A possible replacement is to upgrade to a newer version of pdfminer-six or contact the author to suggest that they release a version with a conforming version number. Discussion can be found at https://github.com/pypa/pip/issues/12063\r\n",
      "Defaulting to user installation because normal site-packages is not writeable\r\n",
      "Requirement already satisfied: matplotlib in /home/michaelbennie/.local/lib/python3.10/site-packages (3.8.2)\r\n",
      "Requirement already satisfied: contourpy>=1.0.1 in /home/michaelbennie/.local/lib/python3.10/site-packages (from matplotlib) (1.2.0)\r\n",
      "Requirement already satisfied: cycler>=0.10 in /home/michaelbennie/.local/lib/python3.10/site-packages (from matplotlib) (0.12.1)\r\n",
      "Requirement already satisfied: fonttools>=4.22.0 in /home/michaelbennie/.local/lib/python3.10/site-packages (from matplotlib) (4.47.2)\r\n",
      "Requirement already satisfied: kiwisolver>=1.3.1 in /home/michaelbennie/.local/lib/python3.10/site-packages (from matplotlib) (1.4.5)\r\n",
      "Requirement already satisfied: numpy<2,>=1.21 in /home/michaelbennie/.local/lib/python3.10/site-packages (from matplotlib) (1.26.4)\r\n",
      "Requirement already satisfied: packaging>=20.0 in /home/michaelbennie/.local/lib/python3.10/site-packages (from matplotlib) (23.0)\r\n",
      "Requirement already satisfied: pillow>=8 in /home/michaelbennie/.local/lib/python3.10/site-packages (from matplotlib) (10.0.1)\r\n",
      "Requirement already satisfied: pyparsing>=2.3.1 in /usr/lib/python3/dist-packages (from matplotlib) (2.4.7)\r\n",
      "Requirement already satisfied: python-dateutil>=2.7 in /home/michaelbennie/.local/lib/python3.10/site-packages (from matplotlib) (2.8.2)\r\n",
      "Requirement already satisfied: six>=1.5 in /usr/lib/python3/dist-packages (from python-dateutil>=2.7->matplotlib) (1.16.0)\r\n",
      "DEPRECATION: devscripts 2.22.1ubuntu1 has a non-standard version number. pip 24.1 will enforce this behaviour change. A possible replacement is to upgrade to a newer version of devscripts or contact the author to suggest that they release a version with a conforming version number. Discussion can be found at https://github.com/pypa/pip/issues/12063\r\n",
      "DEPRECATION: pdfminer-six -VERSION- has a non-standard version number. pip 24.1 will enforce this behaviour change. A possible replacement is to upgrade to a newer version of pdfminer-six or contact the author to suggest that they release a version with a conforming version number. Discussion can be found at https://github.com/pypa/pip/issues/12063\r\n"
     ]
    }
   ],
   "execution_count": 4
  },
  {
   "cell_type": "code",
   "metadata": {
    "ExecuteTime": {
     "end_time": "2024-04-10T19:17:53.689064Z",
     "start_time": "2024-04-10T19:17:53.686682Z"
    }
   },
   "source": [
    "\n",
    "# Put the oracle db credentials in order to connect\n",
    "#un = michael.bennie\n",
    "#cs = \n",
    "#pw = "
   ],
   "outputs": [],
   "execution_count": 5
  },
  {
   "cell_type": "code",
   "metadata": {
    "ExecuteTime": {
     "end_time": "2024-04-10T19:17:53.719466Z",
     "start_time": "2024-04-10T19:17:53.689905Z"
    }
   },
   "source": [
    "\n",
    "app = mr.App(title=\"Static notebook\", description=\"Display static notebook\")\n"
   ],
   "outputs": [
    {
     "data": {
      "text/plain": [
       "mercury.App"
      ],
      "text/html": [
       "<h3>Mercury Application</h3><small>This output won't appear in the web app.</small>"
      ],
      "application/mercury+json": "{\n    \"widget\": \"App\",\n    \"title\": \"Static notebook\",\n    \"description\": \"Display static notebook\",\n    \"show_code\": false,\n    \"show_prompt\": false,\n    \"output\": \"app\",\n    \"schedule\": \"\",\n    \"notify\": \"{}\",\n    \"continuous_update\": true,\n    \"static_notebook\": false,\n    \"show_sidebar\": true,\n    \"full_screen\": true,\n    \"allow_download\": true,\n    \"stop_on_error\": false,\n    \"model_id\": \"mercury-app\",\n    \"code_uid\": \"App.0.40.105.1-randc22e93fe\"\n}"
     },
     "metadata": {},
     "output_type": "display_data"
    }
   ],
   "execution_count": 6
  },
  {
   "cell_type": "code",
   "metadata": {
    "ExecuteTime": {
     "end_time": "2024-04-10T19:17:53.745016Z",
     "start_time": "2024-04-10T19:17:53.720645Z"
    }
   },
   "source": [
    "header = mr.Md(\"CIS4301 Databases Group Project\")\n",
    "name = mr.Text(label=\"What is your name?\", value=\"Piotr\")\n",
    "points = mr.Slider(label=\"Number of points\", value=75, min=50, max=100)\n",
    "color = mr.Select(label=\"Select color\", value=\"blue\", choices=[\"red\", \"green\", \"blue\"])\n"
   ],
   "outputs": [
    {
     "data": {
      "text/plain": [
       "<IPython.core.display.Markdown object>"
      ],
      "text/markdown": "CIS4301 Databases Group Project"
     },
     "metadata": {},
     "output_type": "display_data"
    },
    {
     "data": {
      "application/vnd.jupyter.widget-view+json": {
       "version_major": 2,
       "version_minor": 0,
       "model_id": "6b868deddae446a2954ba97b868c56ce"
      },
      "application/mercury+json": "{\n    \"widget\": \"Text\",\n    \"value\": \"Piotr\",\n    \"sanitize\": true,\n    \"rows\": 1,\n    \"label\": \"What is your name?\",\n    \"model_id\": \"6b868deddae446a2954ba97b868c56ce\",\n    \"code_uid\": \"Text.0.40.78.2-rand33296d26\",\n    \"url_key\": \"\",\n    \"disabled\": false,\n    \"hidden\": false\n}",
      "text/plain": [
       "mercury.Text"
      ]
     },
     "metadata": {},
     "output_type": "display_data"
    },
    {
     "data": {
      "application/vnd.jupyter.widget-view+json": {
       "version_major": 2,
       "version_minor": 0,
       "model_id": "c04211a271514b7fb87e5b44c28ebd85"
      },
      "application/mercury+json": "{\n    \"widget\": \"Slider\",\n    \"value\": 75,\n    \"min\": 50,\n    \"max\": 100,\n    \"step\": 1,\n    \"label\": \"Number of points\",\n    \"model_id\": \"c04211a271514b7fb87e5b44c28ebd85\",\n    \"code_uid\": \"Slider.0.40.110.3-randd1e78ff5\",\n    \"url_key\": \"\",\n    \"disabled\": false,\n    \"hidden\": false\n}",
      "text/plain": [
       "mercury.Slider"
      ]
     },
     "metadata": {},
     "output_type": "display_data"
    },
    {
     "data": {
      "application/vnd.jupyter.widget-view+json": {
       "version_major": 2,
       "version_minor": 0,
       "model_id": "d74e307e80164968b5f9c15e5e77f537"
      },
      "application/mercury+json": "{\n    \"widget\": \"Select\",\n    \"value\": \"blue\",\n    \"choices\": [\n        \"red\",\n        \"green\",\n        \"blue\"\n    ],\n    \"label\": \"Select color\",\n    \"model_id\": \"d74e307e80164968b5f9c15e5e77f537\",\n    \"code_uid\": \"Select.0.40.104.4-rand354a6cce\",\n    \"url_key\": \"\",\n    \"disabled\": false,\n    \"hidden\": false\n}",
      "text/plain": [
       "mercury.Select"
      ]
     },
     "metadata": {},
     "output_type": "display_data"
    }
   ],
   "execution_count": 7
  },
  {
   "cell_type": "code",
   "metadata": {
    "ExecuteTime": {
     "end_time": "2024-04-10T19:17:54.752671Z",
     "start_time": "2024-04-10T19:17:54.748409Z"
    }
   },
   "source": [
    "\n",
    "mr.Md(f\"\"\"## How are you {name.value}?\n",
    "You can mix Python code and Markdown.\"\"\")\n"
   ],
   "outputs": [
    {
     "data": {
      "text/plain": [
       "<IPython.core.display.Markdown object>"
      ],
      "text/markdown": "## How are you Piotr?\nYou can mix Python code and Markdown."
     },
     "metadata": {},
     "output_type": "display_data"
    }
   ],
   "execution_count": 8
  },
  {
   "cell_type": "code",
   "metadata": {
    "ExecuteTime": {
     "end_time": "2024-04-10T19:17:38.913914Z",
     "start_time": "2024-04-10T19:17:37.993824Z"
    }
   },
   "source": [
    "x = [random.gauss(0,1) for _ in range(points.value)]\n",
    "y = [random.gauss(0,1) for _ in range(points.value)]\n",
    "_ = plt.plot(x,y, '*', markersize=14, color=color.value)\n",
    "_ = plt.title(f\"Plot for {name.value}\")"
   ],
   "outputs": [
    {
     "ename": "NameError",
     "evalue": "name 'points' is not defined",
     "output_type": "error",
     "traceback": [
      "\u001B[0;31m---------------------------------------------------------------------------\u001B[0m",
      "\u001B[0;31mNameError\u001B[0m                                 Traceback (most recent call last)",
      "Cell \u001B[0;32mIn[2], line 1\u001B[0m\n\u001B[0;32m----> 1\u001B[0m x \u001B[38;5;241m=\u001B[39m [random\u001B[38;5;241m.\u001B[39mgauss(\u001B[38;5;241m0\u001B[39m,\u001B[38;5;241m1\u001B[39m) \u001B[38;5;28;01mfor\u001B[39;00m _ \u001B[38;5;129;01min\u001B[39;00m \u001B[38;5;28mrange\u001B[39m(\u001B[43mpoints\u001B[49m\u001B[38;5;241m.\u001B[39mvalue)]\n\u001B[1;32m      2\u001B[0m y \u001B[38;5;241m=\u001B[39m [random\u001B[38;5;241m.\u001B[39mgauss(\u001B[38;5;241m0\u001B[39m,\u001B[38;5;241m1\u001B[39m) \u001B[38;5;28;01mfor\u001B[39;00m _ \u001B[38;5;129;01min\u001B[39;00m \u001B[38;5;28mrange\u001B[39m(points\u001B[38;5;241m.\u001B[39mvalue)]\n\u001B[1;32m      3\u001B[0m _ \u001B[38;5;241m=\u001B[39m plt\u001B[38;5;241m.\u001B[39mplot(x,y, \u001B[38;5;124m'\u001B[39m\u001B[38;5;124m*\u001B[39m\u001B[38;5;124m'\u001B[39m, markersize\u001B[38;5;241m=\u001B[39m\u001B[38;5;241m14\u001B[39m, color\u001B[38;5;241m=\u001B[39mcolor\u001B[38;5;241m.\u001B[39mvalue)\n",
      "\u001B[0;31mNameError\u001B[0m: name 'points' is not defined"
     ]
    }
   ],
   "execution_count": 2
  },
  {
   "cell_type": "code",
   "execution_count": null,
   "metadata": {},
   "outputs": [],
   "source": []
  },
  {
   "cell_type": "code",
   "execution_count": null,
   "metadata": {},
   "outputs": [],
   "source": []
  },
  {
   "cell_type": "code",
   "execution_count": null,
   "metadata": {},
   "outputs": [],
   "source": []
  }
 ],
 "metadata": {
  "kernelspec": {
   "display_name": "Python 3 (ipykernel)",
   "language": "python",
   "name": "python3"
  },
  "language_info": {
   "codemirror_mode": {
    "name": "ipython",
    "version": 3
   },
   "file_extension": ".py",
   "mimetype": "text/x-python",
   "name": "python",
   "nbconvert_exporter": "python",
   "pygments_lexer": "ipython3",
   "version": "3.10.12"
  }
 },
 "nbformat": 4,
 "nbformat_minor": 4
}
